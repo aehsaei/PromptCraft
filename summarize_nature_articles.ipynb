{
 "cells": [
  {
   "attachments": {},
   "cell_type": "markdown",
   "metadata": {},
   "source": [
    "## Use a LLM to create an interesting summarization of research published in the scientific journal Nature\n",
    "#### Springer Nature is a leading global scientific publisher of books and journals, delivering quality content through innovative information products and services."
   ]
  },
  {
   "cell_type": "code",
   "execution_count": 4,
   "metadata": {},
   "outputs": [],
   "source": [
    "import openai\n",
    "import os\n",
    "import requests\n",
    "import pprint\n",
    "from dotenv import load_dotenv, find_dotenv\n",
    "_ = load_dotenv(find_dotenv())\n",
    "\n",
    "springer_api = os.getenv('SPRINGER_NATURE_API_KEY')\n",
    "openai.api_key = os.getenv('OPENAI_API_KEY')"
   ]
  },
  {
   "attachments": {},
   "cell_type": "markdown",
   "metadata": {},
   "source": [
    "### Query Nature to get articles from 2023"
   ]
  },
  {
   "cell_type": "code",
   "execution_count": 5,
   "metadata": {},
   "outputs": [],
   "source": [
    "nature_url = f\"\"\"http://api.springernature.com/metadata/json?q=year:2022&s=1&p=5&api_key={springer_api}\"\"\"\n",
    "\n",
    "response = requests.get(url=nature_url)\n",
    "response.raise_for_status()\n",
    "resp = response.json()\n",
    "\n",
    "articles = resp['records']"
   ]
  },
  {
   "attachments": {},
   "cell_type": "markdown",
   "metadata": {},
   "source": [
    "### Use GPT to Create an Interesting Summarization for Each Abstract\n",
    "#### Include a link to the article for more details"
   ]
  },
  {
   "cell_type": "code",
   "execution_count": 11,
   "metadata": {},
   "outputs": [
    {
     "name": "stdout",
     "output_type": "stream",
     "text": [
      "Dual medial and anterior approach for excision of extraosseous synovial hip osteochondroma: a case report\n",
      "A 14-year-old boy with chronic hip pain and inability to ambulate was successfully treated for a proximal femoral osteochondroma using a dual medial and anterior approach without hip dislocation. This could impact human life in the future by providing a safer and more accessible treatment option for this common benign bone tumor.\n",
      "http://dx.doi.org/10.1186/s13256-022-03724-w\n",
      "--------------\n",
      "Calibration and evaluation of the relative biological effectiveness for carbon-ion radiotherapy in a new relative to a clinically applied treatment planning system\n",
      "RayStation can be used for clinical carbon-ion radiotherapy treatment planning with a small difference in relative biological effectiveness (RBE) compared to the Syngo treatment planning system. However, further exploration is needed to understand potential differences due to the absorbed beam model, which could impact human life in the future by affecting the accuracy of radiation therapy treatment planning.\n",
      "http://dx.doi.org/10.1186/s13014-022-02181-5\n",
      "--------------\n",
      "Situation assessment in air combat considering incomplete frame of discernment in the generalized evidence theory\n",
      "An improved method of situation assessment for air combat is proposed, considering incomplete information due to new technologies and unknown targets. The method uses the generalized evidence theory to model incomplete and unknown situations and make real-time decisions for actions to take. This could impact human life in the future by improving decision-making in air combat, potentially leading to more successful missions and fewer casualties.\n",
      "http://dx.doi.org/10.1038/s41598-022-27076-z\n",
      "--------------\n",
      "Mechanism of autophagy induced by activation of the AMPK/ERK/mTOR signaling pathway after TRIM22-mediated DENV-2 infection of HUVECs\n",
      "TRIM22 protein positively regulates autophagy in human umbilical vein endothelial cells (HUVECs) and may affect autophagy through the AMPK/ERK/mTOR signaling pathway following DENV-2 infection. This research could lead to a better understanding of the pathogenic mechanism of DENV-2 infection and potentially lead to the development of new treatments for dengue fever.\n",
      "http://dx.doi.org/10.1186/s12985-022-01932-w\n",
      "--------------\n",
      "Electrochemical nanosensor for ultrasensitive detection of malachite green and monitoring of its photocatalytic degradation\n",
      "TiO2/ZnO and La-doped ZnO nanocomposites were synthesized and used for the detection and degradation of Malachite Green. The nanocomposites showed high sensitivity for sensing and almost complete degradation of MG in 40 minutes using a photocatalytic method. This could impact human life by providing a more efficient and effective way to detect and remove harmful pollutants from the environment.\n",
      "http://dx.doi.org/10.1038/s41545-022-00213-x\n",
      "--------------\n"
     ]
    }
   ],
   "source": [
    "def get_completion(prompt, model=\"gpt-3.5-turbo\"):\n",
    "    messages = [{\"role\": \"user\", \"content\": prompt}]\n",
    "    response = openai.ChatCompletion.create(\n",
    "        model = model,\n",
    "        messages = messages,\n",
    "        temperature = 0,\n",
    "    )\n",
    "    return response.choices[0].message[\"content\"]\n",
    "\n",
    "for item in articles:\n",
    "\n",
    "    prompt = f\"\"\"\n",
    "    Summarize the text delimited by the triple backticks \\\n",
    "    limit to 100 characters. Make the summarization easy to understand \\\n",
    "    and start with the key takeaway a reader would find interesting. In the summarization \\\n",
    "    explain how this could impact human life in the future.\n",
    "    ```{item['abstract']}```\n",
    "    \"\"\"\n",
    "    response = get_completion(prompt)\n",
    "    print(item['title'])\n",
    "    print(response)\n",
    "    print(item['url'][0]['value'])\n",
    "    print(\"--------------\")"
   ]
  },
  {
   "cell_type": "code",
   "execution_count": null,
   "metadata": {},
   "outputs": [],
   "source": []
  }
 ],
 "metadata": {
  "kernelspec": {
   "display_name": "Python 3",
   "language": "python",
   "name": "python3"
  },
  "language_info": {
   "codemirror_mode": {
    "name": "ipython",
    "version": 3
   },
   "file_extension": ".py",
   "mimetype": "text/x-python",
   "name": "python",
   "nbconvert_exporter": "python",
   "pygments_lexer": "ipython3",
   "version": "3.9.16"
  },
  "orig_nbformat": 4
 },
 "nbformat": 4,
 "nbformat_minor": 2
}
