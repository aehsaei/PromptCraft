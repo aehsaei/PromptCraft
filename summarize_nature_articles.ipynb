{
 "cells": [
  {
   "cell_type": "code",
   "execution_count": 9,
   "metadata": {},
   "outputs": [],
   "source": [
    "import openai\n",
    "import os\n",
    "import requests\n",
    "import pprint\n",
    "from dotenv import load_dotenv, find_dotenv\n",
    "_ = load_dotenv(find_dotenv())\n",
    "\n",
    "springer_api = os.getenv('SPRINGER_NATURE_API_KEY')\n",
    "openai.api_key = os.getenv('OPENAI_API_KEY')"
   ]
  },
  {
   "attachments": {},
   "cell_type": "markdown",
   "metadata": {},
   "source": [
    "### Query Nature to get articles from 2023"
   ]
  },
  {
   "cell_type": "code",
   "execution_count": 11,
   "metadata": {},
   "outputs": [],
   "source": [
    "nature_url = f\"\"\"http://api.springernature.com/metadata/json?q=year:2023&s=1&p=5&api_key={springer_api}\"\"\"\n",
    "\n",
    "response = requests.get(url=nature_url)\n",
    "response.raise_for_status()\n",
    "resp = response.json()\n",
    "\n",
    "articles = resp['records']"
   ]
  },
  {
   "attachments": {},
   "cell_type": "markdown",
   "metadata": {},
   "source": [
    "### Use ChatGPT to Summarize and Tell Me Something Interesting About Each Abstract"
   ]
  },
  {
   "cell_type": "code",
   "execution_count": 29,
   "metadata": {},
   "outputs": [
    {
     "name": "stdout",
     "output_type": "stream",
     "text": [
      "Compressive Thermal Wave Imaging for Subsurface Analysis\n",
      "Compressive sensing (CS) can extract subsurface details in active thermography efficiently by acquiring signals at sub-Nyquist rates with fewer measurements. This paper validates the application of CS in frequency modulated thermal wave imaging, showing its suitability for efficient reconstruction of thermal data and enhancing defect signature. The study experimented on a mild steel specimen with artificially simulated back hole defects, using the discrete cosine transform as sparsity prior and the orthogonal matching pursuit to reconstruct the original thermal response from compressed measurements.\n",
      "http://dx.doi.org/10.1134/S1061830922601155\n",
      "--------------\n",
      "Experimental and numerical study of free-falling streams of particles impacting an inclined surface\n",
      "This study analyzed the impact of free-falling particle streams on different materials and the influence of wall roughness. A new drag force formula was implemented into CFD models, which better predicted particle rebound properties. The rough-wall model had a greater effect on smaller particles. Particle-particle collision was found to be the dominant factor in particle dispersion post-collision.\n",
      "http://dx.doi.org/10.1007/s42757-022-0144-8\n",
      "--------------\n",
      "A comprehensive review on exploration and exploitation of offshore geothermal energy\n",
      "The world's oceans have a lot of untapped geothermal energy, but exploration and exploitation are still in the early stages. This paper discusses three types of power plants for harnessing this energy and explores the technical, financial, and environmental aspects of offshore geothermal technology. Case studies from Indonesia and Italy are presented as examples, and the findings can be applied to developing countries in the field of geothermal.\n",
      "http://dx.doi.org/10.1007/s40868-022-00120-3\n",
      "--------------\n",
      "Applicability of Nanoparticle Coating in Bone Density Evaluation Using Gaussian-Weighted Linear Frequency-Modulated Thermal Wave Imaging\n",
      "Active infrared thermography can improve bone density diagnosis, but has limited depth penetration. A nanoparticle coating approach using iron oxide and titanium oxide nanoparticles with Gaussian-weighted linear frequency-modulated (GWLFM) excitation can increase compression qualities, sensitivity, and resolution. This study found that titanium- and iron-based nanoparticle coatings in conjunction with GWLFM can enhance depth penetration for bone density measurement.\n",
      "http://dx.doi.org/10.1134/S106183092260109X\n",
      "--------------\n",
      "Solving the Inverse Problem of Surface Reconstruction during Electron Beam Surfacing\n",
      "Researchers have solved the inverse problem of reconstructing a surface using continuous X-ray radiation in additive manufacturing. They used the iterative reconstruction method to reconstruct three symmetric objects, showing good correspondence with the given surfaces.\n",
      "http://dx.doi.org/10.1134/S1061830923700249\n",
      "--------------\n"
     ]
    }
   ],
   "source": [
    "def get_completion(prompt, model=\"gpt-3.5-turbo\"):\n",
    "    messages = [{\"role\": \"user\", \"content\": prompt}]\n",
    "    response = openai.ChatCompletion.create(\n",
    "        model = model,\n",
    "        messages = messages,\n",
    "        temperature = 0,\n",
    "    )\n",
    "    return response.choices[0].message[\"content\"]\n",
    "\n",
    "for item in articles:\n",
    "\n",
    "    prompt = f\"\"\"\n",
    "    Summarize the text delimited by the triple backticks \\\n",
    "    into a 200 characters. Make the summarization easy to understand \\\n",
    "    and lead with the key takeaway a reader would find interesting.\n",
    "    ```{item['abstract']}```\n",
    "    \"\"\"\n",
    "    response = get_completion(prompt)\n",
    "    print(item['title'])\n",
    "    print(response)\n",
    "    print(item['url'][0]['value'])\n",
    "    print(\"--------------\")"
   ]
  }
 ],
 "metadata": {
  "kernelspec": {
   "display_name": "Python 3",
   "language": "python",
   "name": "python3"
  },
  "language_info": {
   "codemirror_mode": {
    "name": "ipython",
    "version": 3
   },
   "file_extension": ".py",
   "mimetype": "text/x-python",
   "name": "python",
   "nbconvert_exporter": "python",
   "pygments_lexer": "ipython3",
   "version": "3.9.16"
  },
  "orig_nbformat": 4
 },
 "nbformat": 4,
 "nbformat_minor": 2
}
