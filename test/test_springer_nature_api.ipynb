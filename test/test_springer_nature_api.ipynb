{
 "cells": [
  {
   "attachments": {},
   "cell_type": "markdown",
   "metadata": {},
   "source": [
    "### Notebook to test the Springer Nature API\n",
    "#### Springer Nature is a leading global scientific publisher of books and journals, delivering quality content through innovative information products and services. It publishes close to 500 academic and professional society journals. In the science, technology and medicine (STM) sector, the group publishes about 3,000 journals and 13,000 new books a year, as well as the largest STM eBook Collection worldwide. Springer Nature has operations in about 20 countries in Europe, the USA, and Asia, and more than 10,000 employees.\n",
    "\n"
   ]
  },
  {
   "cell_type": "code",
   "execution_count": 5,
   "metadata": {},
   "outputs": [],
   "source": [
    "# import necessary modules and set the API key\n",
    "import os\n",
    "import requests\n",
    "import pprint\n",
    "from dotenv import load_dotenv, find_dotenv\n",
    "_ = load_dotenv(find_dotenv())\n",
    "\n",
    "springer_api = os.getenv('SPRINGER_NATURE_API_KEY')"
   ]
  },
  {
   "cell_type": "code",
   "execution_count": 7,
   "metadata": {},
   "outputs": [
    {
     "name": "stdout",
     "output_type": "stream",
     "text": [
      "('The forthcoming collision by debris of P/Shoemaker-Levy 9 comet with Jupiter '\n",
      " 'during the week of July 18, 1994 has generated considerable scientific and '\n",
      " 'public interest. This collision may release an amount of energy ranging from '\n",
      " '10^25-10^31 ergs in the Jovian atmosphere. Two possible phenomena associated '\n",
      " 'with this event are described in this Letter to the Editor. The first one is '\n",
      " 'the likely display of deformed Jovian magnetic field lines as the comet '\n",
      " 'interacts with the Jovian magnetosphere. The second one is electromagnetic '\n",
      " 'radiation outbursts during comet explosions over a wide frequency range from '\n",
      " 'radio up to gamma ray emissions. If relativistic electrons with energies up '\n",
      " 'to ~ 1000 MeV could be produced during comet explosions, then synchrotron '\n",
      " 'radiations with frequencies from radio up to infrared range could be '\n",
      " 'detectable. Hard X-rays and gamma rays could be produced by bremsstrahlung '\n",
      " 'and inverse Compton processes. Since one cannot exclude the possible '\n",
      " 'transient presence of relativistic electrons with Lorentz γ factor ≳ 2 × '\n",
      " '10^6, synchrotron radiation component might even be extended into gamma ray '\n",
      " 'frequency range during intermittent short time intervals.')\n"
     ]
    }
   ],
   "source": [
    "# Test the API and fetch and abstract\n",
    "url = f\"\"\"\n",
    "http://api.springernature.com/meta/v2/json?q=doi:10.1007/BF00627098&api_key={springer_api}\n",
    "\"\"\"\n",
    "\n",
    "url = url.rstrip()\n",
    "\n",
    "response = requests.get(url=url)\n",
    "response.raise_for_status()\n",
    "resp = response.json()\n",
    "\n",
    "for item in resp['records']:\n",
    "    pprint.pprint(item['abstract'])"
   ]
  }
 ],
 "metadata": {
  "kernelspec": {
   "display_name": "Python 3",
   "language": "python",
   "name": "python3"
  },
  "language_info": {
   "codemirror_mode": {
    "name": "ipython",
    "version": 3
   },
   "file_extension": ".py",
   "mimetype": "text/x-python",
   "name": "python",
   "nbconvert_exporter": "python",
   "pygments_lexer": "ipython3",
   "version": "3.9.16"
  },
  "orig_nbformat": 4
 },
 "nbformat": 4,
 "nbformat_minor": 2
}
