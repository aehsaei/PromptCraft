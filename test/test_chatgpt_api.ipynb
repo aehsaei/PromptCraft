{
 "cells": [
  {
   "attachments": {},
   "cell_type": "markdown",
   "metadata": {},
   "source": [
    "## Notebook to test the ChatGPT API"
   ]
  },
  {
   "cell_type": "code",
   "execution_count": 2,
   "metadata": {},
   "outputs": [
    {
     "name": "stdout",
     "output_type": "stream",
     "text": [
      "Requirement already satisfied: pip in /Users/andrewehsaei/.pyenv/versions/3.9.16/lib/python3.9/site-packages (23.1.2)\n",
      "Requirement already satisfied: openai in /Users/andrewehsaei/.pyenv/versions/3.9.16/lib/python3.9/site-packages (0.27.7)\n",
      "Requirement already satisfied: requests>=2.20 in /Users/andrewehsaei/.pyenv/versions/3.9.16/lib/python3.9/site-packages (from openai) (2.28.2)\n",
      "Requirement already satisfied: tqdm in /Users/andrewehsaei/.pyenv/versions/3.9.16/lib/python3.9/site-packages (from openai) (4.65.0)\n",
      "Requirement already satisfied: aiohttp in /Users/andrewehsaei/.pyenv/versions/3.9.16/lib/python3.9/site-packages (from openai) (3.8.1)\n",
      "Requirement already satisfied: charset-normalizer<4,>=2 in /Users/andrewehsaei/.pyenv/versions/3.9.16/lib/python3.9/site-packages (from requests>=2.20->openai) (2.1.1)\n",
      "Requirement already satisfied: idna<4,>=2.5 in /Users/andrewehsaei/.pyenv/versions/3.9.16/lib/python3.9/site-packages (from requests>=2.20->openai) (3.4)\n",
      "Requirement already satisfied: urllib3<1.27,>=1.21.1 in /Users/andrewehsaei/.pyenv/versions/3.9.16/lib/python3.9/site-packages (from requests>=2.20->openai) (1.26.15)\n",
      "Requirement already satisfied: certifi>=2017.4.17 in /Users/andrewehsaei/.pyenv/versions/3.9.16/lib/python3.9/site-packages (from requests>=2.20->openai) (2022.12.7)\n",
      "Requirement already satisfied: attrs>=17.3.0 in /Users/andrewehsaei/.pyenv/versions/3.9.16/lib/python3.9/site-packages (from aiohttp->openai) (22.2.0)\n",
      "Requirement already satisfied: multidict<7.0,>=4.5 in /Users/andrewehsaei/.pyenv/versions/3.9.16/lib/python3.9/site-packages (from aiohttp->openai) (6.0.4)\n",
      "Requirement already satisfied: async-timeout<5.0,>=4.0.0a3 in /Users/andrewehsaei/.pyenv/versions/3.9.16/lib/python3.9/site-packages (from aiohttp->openai) (4.0.2)\n",
      "Requirement already satisfied: yarl<2.0,>=1.0 in /Users/andrewehsaei/.pyenv/versions/3.9.16/lib/python3.9/site-packages (from aiohttp->openai) (1.8.2)\n",
      "Requirement already satisfied: frozenlist>=1.1.1 in /Users/andrewehsaei/.pyenv/versions/3.9.16/lib/python3.9/site-packages (from aiohttp->openai) (1.3.3)\n",
      "Requirement already satisfied: aiosignal>=1.1.2 in /Users/andrewehsaei/.pyenv/versions/3.9.16/lib/python3.9/site-packages (from aiohttp->openai) (1.3.1)\n",
      "Requirement already satisfied: python-dotenv in /Users/andrewehsaei/.pyenv/versions/3.9.16/lib/python3.9/site-packages (1.0.0)\n"
     ]
    }
   ],
   "source": [
    "# Install necessary packages\n",
    "!pip install --upgrade pip\n",
    "!pip install openai\n",
    "!pip install python-dotenv"
   ]
  },
  {
   "cell_type": "code",
   "execution_count": 3,
   "metadata": {},
   "outputs": [],
   "source": [
    "# Import modules and set API key\n",
    "import openai\n",
    "import os\n",
    "from dotenv import load_dotenv, find_dotenv\n",
    "_ = load_dotenv(find_dotenv())\n",
    "\n",
    "openai.api_key = os.getenv('OPENAI_API_KEY')"
   ]
  },
  {
   "attachments": {},
   "cell_type": "markdown",
   "metadata": {},
   "source": []
  },
  {
   "cell_type": "code",
   "execution_count": 4,
   "metadata": {},
   "outputs": [],
   "source": [
    "def get_completion(prompt, model=\"gpt-3.5-turbo\"):\n",
    "    \"\"\"This function sends a prompt to ChatGPT and returns a response\"\"\"\n",
    "    messages = [{\"role\": \"user\", \"content\": prompt}]\n",
    "    response = openai.ChatCompletion.create(\n",
    "        model = model,\n",
    "        messages = messages,\n",
    "        temperature = 0,\n",
    "    )\n",
    "    return response.choices[0].message[\"content\"]"
   ]
  },
  {
   "attachments": {},
   "cell_type": "markdown",
   "metadata": {},
   "source": [
    "### Send a very basic prompt to ChatGPT and ask to summarize text"
   ]
  },
  {
   "cell_type": "code",
   "execution_count": 5,
   "metadata": {},
   "outputs": [
    {
     "name": "stdout",
     "output_type": "stream",
     "text": [
      "The text is a sample used to test API connectivity.\n"
     ]
    }
   ],
   "source": [
    "text = f\"\"\"\n",
    "This is sample text to test that the API connection works\n",
    "\"\"\"\n",
    "prompt = f\"\"\"\n",
    "Summarize the text delimited by the triple backticks \\\n",
    "into a single sentence. Make the summarization easy to understand \\\n",
    "and present a key takeaway that a reader would find interesting.\n",
    "```{text}```\n",
    "\"\"\"\n",
    "response = get_completion(prompt)\n",
    "print(response)"
   ]
  },
  {
   "attachments": {},
   "cell_type": "markdown",
   "metadata": {},
   "source": [
    "### Send a bit more complex text regarding a research study, and ask ChatGPT to summarize"
   ]
  },
  {
   "cell_type": "code",
   "execution_count": 6,
   "metadata": {},
   "outputs": [
    {
     "name": "stdout",
     "output_type": "stream",
     "text": [
      "Roundworms need uninterrupted sleep to maintain long-lasting memories associated with particular smells, according to a study published in Cell, which could help scientists understand the cellular and molecular processes that occur during sleep and how it is linked to memory. The study found that disturbing the sleep of Caenorhabditis elegans nematodes prevented crucial changes to their nervous system that are involved in forming long-lasting memories, and that memories are thought to reside in synapses, the junctions between neurons.\n"
     ]
    }
   ],
   "source": [
    "text = f\"\"\"\n",
    "Roundworms need a good night’s sleep to maintain the memories associated with particular smells, a study suggests.\n",
    "\n",
    "When trained to avoid a sweet scent, Caenorhabditis elegans (C. elegans) nematodes can still remember to do so after 16 hours, as long as their post-training nap is uninterrupted. But disturbing their sleep prevents crucial changes to their nervous system that are involved in forming long-lasting memories.\n",
    "\n",
    "The findings, published in Cell on 2 June1, pave the way for scientists to delve more into the processes that occur at the cellular and molecular level during sleep.\n",
    "\n",
    "“This brings cellular resolution to a question that’s ancient”, namely what is the purpose of sleep and how is it linked to memory, says study co-author Noelle L’Etoile, a cell biologist at the University of California, San Francisco.\n",
    "\n",
    "Eating in their sleep\n",
    "Research on many species, including fruit flies2, bees3, rodents4 and humans has shown that sleep is essential for long-term memory.\n",
    "\n",
    "L’Etoile and her colleagues wanted to investigate whether this also applied to C. elegans. Studying sleep in such a simple organism “might help us to really understand the underlying mechanism”, says Hanna Zwaka, a neuroscientist at Harvard University in Cambridge, Massachusetts. “We know their individual synapses, and that’s something that we don't have in other animals.”\n",
    "\n",
    "The research came with an unusual challenge, says L’Etoile: defining when the one-millimetre-long worms are in fact asleep. With no limbs or clear-cut sleep stages to observe, distinguishing a sleeping C. elegans from one that is awake is a tricky task.\n",
    "\n",
    "The researchers used video-based imaging tools to observe hundreds of worms and look for telltale features of sleep such as reduced movement, stereotypical postures and seeming to ‘wake up’ when exposed to a flashing blue light.\n",
    "\n",
    "While napping, “the little worms become straight with just a little crook where their head is”, says L’Etoile. Although they tend not to move around, the worms can’t resist sleep eating. “Their feeding is reduced, but it’s not zero,” she says.\n",
    "\n",
    "Controlled connections\n",
    "Memories are thought to reside in synapses — the junctions between neurons. Part of the process of consolidating memories involves reducing the number of synapses during sleep, which is thought to balance connections between neurons in the brain and keep them within an appropriate range.\n",
    "\n",
    "With only 302 neurons, C. elegans has one of the most streamlined nervous systems of any organism, says L’Etoile, and scientists have mapped its entire connectome — the web of all of the neurons and their connecting synapses. This makes the species ideal for studying the changes in synapses that happen during sleep.\n",
    "\n",
    "To put the worms’ memory to the test, the researchers trained them to ignore the sweet scent of the compound butanone, which they normally find attractive. The team did this by associating the smell with the removal of food.\n",
    "\n",
    "The worms detect the odour of butanone using a neuron called AWC, which connects to a pair of neurons called AIY. Using an imaging tool called GRASP to elicit green fluorescence at synapses, the authors showed that training the worms to avoid the odour caused a reduction in the number of AWC–AIY synapses in their nervous system.\n",
    "\n",
    "The worms also tended to rest after the training. To test whether this post-training nap is required to maintain odour memory, the researchers disrupted the worms’ sleep by either gently shaking them every 15 minutes, or removing food.\n",
    "\n",
    "The worms that enjoyed uninterrupted sleep immediately after the odour training did not react to the smell of butanone after 16 hours. But the ones deprived of sleep in the first 1–2 hours after training showed more-intense synaptic connections than did those with undisturbed sleep, and didn’t remember to stay away from butanone after 16 hours.\n",
    "\n",
    "“When the odour becomes a solidified memory, it requires sleep,” says L’Etoile. The results suggest that the worms have a critical sleep window of 1–2 hours after training, during which they solidify their memories. When the worms’ sleep was disrupted 2–6 hours post-training, it did not have the same effect on memory retention.\n",
    "\n",
    "For David Raizen, a neuroscientist at the University of Pennsylvania in Philadelphia, the next step will be to study the biochemical mechanisms though which sleep behaviour induces these changes in the number and strength of synapses.\n",
    "\"\"\"\n",
    "prompt = f\"\"\"\n",
    "Summarize the text delimited by the triple backticks \\\n",
    "into a single sentence. Make the summarization easy to understand \\\n",
    "and present a key takeaway that a reader would find interesting.\n",
    "```{text}```\n",
    "\"\"\"\n",
    "response = get_completion(prompt)\n",
    "print(response)"
   ]
  },
  {
   "cell_type": "code",
   "execution_count": null,
   "metadata": {},
   "outputs": [],
   "source": []
  }
 ],
 "metadata": {
  "kernelspec": {
   "display_name": "Python 3",
   "language": "python",
   "name": "python3"
  },
  "language_info": {
   "codemirror_mode": {
    "name": "ipython",
    "version": 3
   },
   "file_extension": ".py",
   "mimetype": "text/x-python",
   "name": "python",
   "nbconvert_exporter": "python",
   "pygments_lexer": "ipython3",
   "version": "3.9.16"
  },
  "orig_nbformat": 4
 },
 "nbformat": 4,
 "nbformat_minor": 2
}
